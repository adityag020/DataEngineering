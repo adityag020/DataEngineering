{
 "cells": [
  {
   "cell_type": "code",
   "execution_count": 48,
   "id": "be74b05f",
   "metadata": {},
   "outputs": [],
   "source": [
    "from pyspark.sql import SparkSession, Window\n",
    "from pyspark.sql.functions import *"
   ]
  },
  {
   "cell_type": "code",
   "execution_count": 49,
   "id": "3856da68",
   "metadata": {},
   "outputs": [
    {
     "data": {
      "text/html": [
       "\n",
       "        <div>\n",
       "            <p><b>SparkContext</b></p>\n",
       "\n",
       "            <p><a href=\"http://ADITYA-PC:4040\">Spark UI</a></p>\n",
       "\n",
       "            <dl>\n",
       "              <dt>Version</dt>\n",
       "                <dd><code>v3.3.1</code></dd>\n",
       "              <dt>Master</dt>\n",
       "                <dd><code>local</code></dd>\n",
       "              <dt>AppName</dt>\n",
       "                <dd><code>CrashAnalysis</code></dd>\n",
       "            </dl>\n",
       "        </div>\n",
       "        "
      ],
      "text/plain": [
       "<SparkContext master=local appName=CrashAnalysis>"
      ]
     },
     "execution_count": 49,
     "metadata": {},
     "output_type": "execute_result"
    }
   ],
   "source": [
    "### INITIALIZING SPARKSESSION\n",
    "\n",
    "spark = SparkSession \\\n",
    "        .builder \\\n",
    "        .master(\"local\")\\\n",
    "        .appName(\"CrashAnalysis\") \\\n",
    "        .getOrCreate()\n",
    "\n",
    "sc = spark.sparkContext\n",
    "sc"
   ]
  },
  {
   "cell_type": "code",
   "execution_count": 50,
   "id": "9386e276",
   "metadata": {},
   "outputs": [],
   "source": [
    "### READING CSV FILES INTO DATAFRAME\n",
    "\n",
    "df_charges = spark.read.option(\"header\", True).option(\"inferSchema\", True).csv(\"Data/Charges_use.csv\")\n",
    "df_damages = spark.read.option(\"header\", True).option(\"inferSchema\", True).csv(\"Data/Damages_use.csv\")\n",
    "df_endorse = spark.read.option(\"header\", True).option(\"inferSchema\", True).csv(\"Data/Endorse_use.csv\")\n",
    "df_primary_person = spark.read.option(\"header\", True).option(\"inferSchema\", True).csv(\"Data/Primary_Person_use.csv\")\n",
    "df_units = spark.read.option(\"header\", True).option(\"inferSchema\", True).csv(\"Data/Units_use.csv\")\n",
    "df_restrict = spark.read.option(\"header\", True).option(\"inferSchema\", True).csv(\"Data/Restrict_use.csv\")"
   ]
  },
  {
   "cell_type": "code",
   "execution_count": 51,
   "id": "64435c09",
   "metadata": {},
   "outputs": [
    {
     "name": "stdout",
     "output_type": "stream",
     "text": [
      "+-------------------------+\n",
      "|CRASHES_WITH_MALES_KILLED|\n",
      "+-------------------------+\n",
      "|180                      |\n",
      "+-------------------------+\n",
      "\n"
     ]
    }
   ],
   "source": [
    "# ANALYSIS 1 - Find the number of crashes (accidents) in which number of persons killed are male? \n",
    "\n",
    "df = df_primary_person.distinct().filter((upper(col(\"PRSN_GNDR_ID\"))==\"MALE\") & (upper(col(\"PRSN_INJRY_SEV_ID\"))==\"KILLED\"))\\\n",
    "                    .select(countDistinct(col(\"CRASH_ID\")).alias(\"CRASHES_WITH_MALES_KILLED\"))\n",
    "\n",
    "\n",
    "df.show(truncate=False)\n",
    "\n",
    "                                                                                                                                                    "
   ]
  },
  {
   "cell_type": "code",
   "execution_count": 52,
   "id": "877bb35d",
   "metadata": {},
   "outputs": [
    {
     "name": "stdout",
     "output_type": "stream",
     "text": [
      "+-------------------------------+\n",
      "|TWO_WHEELERS_BOOKED_FOR_CRASHES|\n",
      "+-------------------------------+\n",
      "|766                            |\n",
      "+-------------------------------+\n",
      "\n"
     ]
    }
   ],
   "source": [
    "# ANALYSIS 2 - How many two wheelers are booked for crashes? \n",
    "\n",
    "df = df_units.distinct().filter(upper(col(\"VEH_BODY_STYL_ID\")).contains(\"MOTORCYCLE\"))\\\n",
    "             .select(countDistinct(col(\"VIN\")).alias(\"TWO_WHEELERS_BOOKED_FOR_CRASHES\"))\n",
    "\n",
    "\n",
    "df.show(truncate=False)"
   ]
  },
  {
   "cell_type": "code",
   "execution_count": 53,
   "id": "4190b389",
   "metadata": {},
   "outputs": [
    {
     "name": "stdout",
     "output_type": "stream",
     "text": [
      "+---------------------------------------------------+\n",
      "|STATE_HAVING_HIGHEST_ACCIDENTS_WITH_FEMALE_INVOLVED|\n",
      "+---------------------------------------------------+\n",
      "|Texas                                              |\n",
      "+---------------------------------------------------+\n",
      "\n"
     ]
    }
   ],
   "source": [
    "# ANALYSIS 3 - Which state has highest number of accidents in which females are involved?\n",
    "\n",
    "df = df_primary_person.distinct().filter((upper(col(\"PRSN_GNDR_ID\"))==\"FEMALE\") & (~upper(col(\"DRVR_LIC_STATE_ID\")).isin(\"NA\", \"UNKNOWN\")))\\\n",
    "                     .groupBy(col(\"DRVR_LIC_STATE_ID\")).agg(countDistinct(col(\"CRASH_ID\")).alias(\"TOTAL_CRASH\")).orderBy(col(\"TOTAL_CRASH\").desc()) \\\n",
    "                     .select(col(\"DRVR_LIC_STATE_ID\").alias(\"STATE_HAVING_HIGHEST_ACCIDENTS_WITH_FEMALE_INVOLVED\")).limit(1)\n",
    "\n",
    "                     \n",
    "df.show(truncate=False)"
   ]
  },
  {
   "cell_type": "code",
   "execution_count": 54,
   "id": "bf827d12",
   "metadata": {},
   "outputs": [
    {
     "name": "stdout",
     "output_type": "stream",
     "text": [
      "+-----------+----+\n",
      "|VEH_MAKE_ID|RANK|\n",
      "+-----------+----+\n",
      "|NISSAN     |5   |\n",
      "|HONDA      |6   |\n",
      "|GMC        |7   |\n",
      "|HYUNDAI    |8   |\n",
      "|KIA        |9   |\n",
      "|JEEP       |10  |\n",
      "|CHRYSLER   |11  |\n",
      "|MAZDA      |12  |\n",
      "|VOLKSWAGEN |13  |\n",
      "|PONTIAC    |14  |\n",
      "|LEXUS      |15  |\n",
      "+-----------+----+\n",
      "\n"
     ]
    }
   ],
   "source": [
    "# ANALYSIS 4 - Which are the Top 5th to 15th VEH_MAKE_IDs that contribute to a largest number of injuries including death?\n",
    "\n",
    "df = df_units.distinct().filter(upper(col(\"VEH_MAKE_ID\")) != \"NA\"). \\\n",
    "            withColumn('TOTAL_INJURIES_DEATH_CNT', df_units[35] + df_units[36]). \\\n",
    "            groupBy(\"VEH_MAKE_ID\").sum(\"TOTAL_INJURIES_DEATH_CNT\"). \\\n",
    "            withColumnRenamed(\"sum(TOTAL_INJURIES_DEATH_CNT)\", \"TOTAL_INJURIES_DEATH_CNT_AGG\"). \\\n",
    "            orderBy(col(\"TOTAL_INJURIES_DEATH_CNT_AGG\").desc())\n",
    "\n",
    "window_spec_veh_make = Window.orderBy(col(\"TOTAL_INJURIES_DEATH_CNT_AGG\").desc())\n",
    "df = df.withColumn(\"rank\", rank().over(window_spec_veh_make)).select(col(\"VEH_MAKE_ID\"), col(\"RANK\")).filter( (col(\"rank\")>= 5) & (col(\"rank\")<= 15))\n",
    "\n",
    "\n",
    "df.show(truncate=False)"
   ]
  },
  {
   "cell_type": "code",
   "execution_count": 55,
   "id": "9b5dcdd1",
   "metadata": {},
   "outputs": [
    {
     "name": "stdout",
     "output_type": "stream",
     "text": [
      "+---------------------------------+-----------------+\n",
      "|VEH_BODY_STYL_ID                 |PRSN_ETHNICITY_ID|\n",
      "+---------------------------------+-----------------+\n",
      "|AMBULANCE                        |WHITE            |\n",
      "|BUS                              |HISPANIC         |\n",
      "|FARM EQUIPMENT                   |WHITE            |\n",
      "|FIRE TRUCK                       |WHITE            |\n",
      "|MOTORCYCLE                       |WHITE            |\n",
      "|NEV-NEIGHBORHOOD ELECTRIC VEHICLE|WHITE            |\n",
      "|PASSENGER CAR, 2-DOOR            |WHITE            |\n",
      "|PASSENGER CAR, 4-DOOR            |WHITE            |\n",
      "|PICKUP                           |WHITE            |\n",
      "|POLICE CAR/TRUCK                 |WHITE            |\n",
      "|POLICE MOTORCYCLE                |HISPANIC         |\n",
      "|SPORT UTILITY VEHICLE            |WHITE            |\n",
      "|TRUCK                            |WHITE            |\n",
      "|TRUCK TRACTOR                    |WHITE            |\n",
      "|VAN                              |WHITE            |\n",
      "|YELLOW SCHOOL BUS                |WHITE            |\n",
      "+---------------------------------+-----------------+\n",
      "\n"
     ]
    }
   ],
   "source": [
    "# ANALYSIS 5 - For all the body styles involved in crashes, mention the top ethnic user group of each unique body style?\n",
    "\n",
    "w = Window.partitionBy(col(\"VEH_BODY_STYL_ID\")).orderBy(col(\"count\").desc())\n",
    "df_primary_person_distinct= df_primary_person.distinct()\n",
    "df_units_distinct= df_units.distinct()\n",
    "df = df_units_distinct.join(df_primary_person_distinct, \"CRASH_ID\", how='inner'). \\\n",
    "            filter(~upper(col(\"VEH_BODY_STYL_ID\")).isin([\"NA\", \"UNKNOWN\", \"NOT REPORTED\",\n",
    "                                                         \"OTHER  (EXPLAIN IN NARRATIVE)\"])). \\\n",
    "            filter(~upper(col(\"PRSN_ETHNICITY_ID\")).isin([\"NA\", \"UNKNOWN\"])). \\\n",
    "            groupby(col(\"VEH_BODY_STYL_ID\"), col(\"PRSN_ETHNICITY_ID\")).count(). \\\n",
    "            withColumn(\"row\", row_number().over(w)).filter(col(\"row\") == 1).drop(\"row\", \"count\")\n",
    "\n",
    "            \n",
    "df.show(truncate=False)"
   ]
  },
  {
   "cell_type": "code",
   "execution_count": 56,
   "id": "7efb866d",
   "metadata": {},
   "outputs": [
    {
     "name": "stdout",
     "output_type": "stream",
     "text": [
      "+--------+----+\n",
      "|DRVR_ZIP|RANK|\n",
      "+--------+----+\n",
      "|78521   |1   |\n",
      "|76010   |2   |\n",
      "|79936   |3   |\n",
      "|79938   |4   |\n",
      "|78550   |5   |\n",
      "|78240   |5   |\n",
      "+--------+----+\n",
      "\n"
     ]
    }
   ],
   "source": [
    "# ANALYSIS 6 - Among the crashed cars, what are the Top 5 Zip Codes with highest number crashes with alcohols as the \n",
    "#contributing factor to a crash (Use Driver Zip Code)?\n",
    "\n",
    "car_crash_check = instr(upper(col(\"VEH_BODY_STYL_ID\")) , \"CAR\") >=1\n",
    "df_units_crash_include_car = df_units.withColumn(\"CAR_FLG\", car_crash_check)\\\n",
    "                    .filter(col(\"CAR_FLG\")).select(col(\"CRASH_ID\")).distinct()\n",
    "\n",
    "win_spec = Window.orderBy(col(\"NUM_TOT_CRASHES\").desc())\n",
    "df = df_primary_person.join(df_units_crash_include_car, \"CRASH_ID\", \"inner\").where((upper(col(\"PRSN_ALC_RSLT_ID\")) == \"POSITIVE\") & (col(\"DRVR_ZIP\").isNotNull()))\\\n",
    "              .groupBy(col(\"DRVR_ZIP\")).agg(countDistinct(\"CRASH_ID\").alias(\"NUM_TOT_CRASHES\"))\\\n",
    "              .withColumn(\"rank\", rank().over(win_spec))\n",
    "\n",
    "df = df.where(col(\"rank\")<=5).select(col(\"DRVR_ZIP\"), col(\"RANK\"))\n",
    "\n",
    "\n",
    "df.show(truncate=False)\n"
   ]
  },
  {
   "cell_type": "code",
   "execution_count": 57,
   "id": "9e39656d",
   "metadata": {},
   "outputs": [
    {
     "name": "stdout",
     "output_type": "stream",
     "text": [
      "+----------------------------------------+\n",
      "|DISTINCT_CRASH_IDS_WITH_NODAMAGEPROPERTY|\n",
      "+----------------------------------------+\n",
      "|8857                                    |\n",
      "+----------------------------------------+\n",
      "\n"
     ]
    }
   ],
   "source": [
    "# ANALYSIS 7 - Count of Distinct Crash IDs where No Damaged Property was observed and Damage Level (VEH_DMAG_SCL~) is above 4 and car avails Insurance?\n",
    "\n",
    "insurance_check = instr(col(\"FIN_RESP_TYPE_ID\") , \"INSURANCE\") >=1\n",
    "\n",
    "df_units_ins_dmg = df_units.distinct()\\\n",
    "        .withColumn(\"VEH_DMG_SCL_1\",regexp_extract(col('VEH_DMAG_SCL_1_id'), r'(\\d+)', 1).cast('bigint'))\\\n",
    "        .withColumn(\"VEH_DMG_SCL_2\",regexp_extract(col('VEH_DMAG_SCL_2_id'), r'(\\d+)', 1).cast('bigint'))\\\n",
    "        .withColumn(\"INSURANCE_FLG\", insurance_check)\\\n",
    "        .select(col(\"CRASH_ID\"),col('VEH_DMG_SCL_1'), col(\"VEH_DMG_SCL_2\"), col(\"INSURANCE_FLG\"),col(\"FIN_RESP_PROOF_ID\"))\\\n",
    "        .filter((~col(\"FIN_RESP_PROOF_ID\").isin(\"NA\",\"NR\")) & ((col(\"VEH_DMG_SCL_1\") >4) | (col(\"VEH_DMG_SCL_2\") >4) ) & (col(\"INSURANCE_FLG\")))\n",
    "\n",
    "df_damage_filter = df_damages.distinct().filter(~upper(col(\"DAMAGED_PROPERTY\")).isin(\"NONE\", \"NONE1\"))\n",
    "df = df_units_ins_dmg.join(df_damage_filter, \"CRASH_ID\", \"leftanti\")\n",
    "\n",
    "df = df.select(countDistinct(col('CRASH_ID')).alias('DISTINCT_CRASH_IDS_WITH_NODAMAGEPROPERTY'))\n",
    "\n",
    "\n",
    "df.show(truncate=False)"
   ]
  },
  {
   "cell_type": "code",
   "execution_count": 58,
   "id": "dda2cbb6",
   "metadata": {},
   "outputs": [
    {
     "name": "stdout",
     "output_type": "stream",
     "text": [
      "+-----------+\n",
      "|VEH_MAKE_ID|\n",
      "+-----------+\n",
      "|FORD       |\n",
      "|CHEVROLET  |\n",
      "|TOYOTA     |\n",
      "|DODGE      |\n",
      "|NISSAN     |\n",
      "+-----------+\n",
      "\n"
     ]
    }
   ],
   "source": [
    "# ANALYSIS 8 - Determine the Top 5 Vehicle Makes where drivers are charged with speeding related offences, has licensed Drivers,\n",
    "# used top 10 used vehicle colours and has car licensed with the Top 25 states with highest number of offences (to be deduced from the data)?\n",
    "\n",
    "top_25_state = [row[0] for row in df_units.distinct().filter(col(\"VEH_LIC_STATE_ID\").cast(\"int\").isNull())\\\n",
    "            .groupBy(\"VEH_LIC_STATE_ID\").agg(countDistinct(col(\"CRASH_ID\")).alias(\"Distinct_CNT\")).orderBy(col(\"Distinct_CNT\").desc()).limit(25).collect()]\n",
    "top_10_used_colors = [row[0] for row in df_units.distinct().filter(df_units.VEH_COLOR_ID != \"NA\")\\\n",
    "            .groupBy(\"VEH_COLOR_ID\").agg(countDistinct(col(\"CRASH_ID\")).alias(\"Distinct_CNT\")).orderBy(col(\"Distinct_CNT\").desc()).collect()]\n",
    "\n",
    "df_charges_filter = df_charges.distinct()\n",
    "df_primary_person_filter = df_primary_person.distinct()\n",
    "df_units_filter = df_units.distinct()\n",
    "df = df_charges_filter.join(df_primary_person_filter, on=[\"CRASH_ID\"], how='inner') \\\n",
    "            .join(df_units_filter, on=['CRASH_ID'], how='inner') \\\n",
    "            .filter(col(\"CHARGE\").contains(\"SPEED\")) \\\n",
    "            .filter(col(\"DRVR_LIC_TYPE_ID\").isin([\"DRIVER LICENSE\", \"COMMERCIAL DRIVER LIC.\"])) \\\n",
    "            .filter(col(\"VEH_COLOR_ID\").isin(top_10_used_colors)) \\\n",
    "            .filter(col(\"VEH_LIC_STATE_ID\").isin(top_25_state)) \\\n",
    "            .groupBy(\"VEH_MAKE_ID\").count() \\\n",
    "            .orderBy(col(\"count\").desc()).limit(5).select(col(\"VEH_MAKE_ID\"))\n",
    "\n",
    "\n",
    "df.show(truncate=False)"
   ]
  }
 ],
 "metadata": {
  "kernelspec": {
   "display_name": "Python 3",
   "language": "python",
   "name": "python3"
  },
  "language_info": {
   "codemirror_mode": {
    "name": "ipython",
    "version": 3
   },
   "file_extension": ".py",
   "mimetype": "text/x-python",
   "name": "python",
   "nbconvert_exporter": "python",
   "pygments_lexer": "ipython3",
   "version": "3.11.1 (tags/v3.11.1:a7a450f, Dec  6 2022, 19:58:39) [MSC v.1934 64 bit (AMD64)]"
  },
  "vscode": {
   "interpreter": {
    "hash": "3d86237bf704886635957959de6b734fe4177548ca2ca78202994b318aa4b602"
   }
  }
 },
 "nbformat": 4,
 "nbformat_minor": 5
}
